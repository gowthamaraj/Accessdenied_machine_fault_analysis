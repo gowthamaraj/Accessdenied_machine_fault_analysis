{
 "cells": [
  {
   "cell_type": "code",
   "execution_count": 15,
   "metadata": {},
   "outputs": [
    {
     "data": {
      "text/plain": [
       "-1"
      ]
     },
     "execution_count": 15,
     "metadata": {},
     "output_type": "execute_result"
    }
   ],
   "source": [
    "import cv2\n",
    "import math\n",
    "import numpy as np\n",
    "import scipy.ndimage\n",
    "\n",
    "def orientated_non_max_suppression(mag, ang):\n",
    "    ang_quant = np.round(ang / (np.pi/4)) % 4\n",
    "    winE = np.array([[0, 0, 0],[1, 1, 1], [0, 0, 0]])\n",
    "    winSE = np.array([[1, 0, 0], [0, 1, 0], [0, 0, 1]])\n",
    "    winS = np.array([[0, 1, 0], [0, 1, 0], [0, 1, 0]])\n",
    "    winSW = np.array([[0, 0, 1], [0, 1, 0], [1, 0, 0]])\n",
    "\n",
    "    magE = non_max_suppression(mag, winE)\n",
    "    magSE = non_max_suppression(mag, winSE)\n",
    "    magS = non_max_suppression(mag, winS)\n",
    "    magSW = non_max_suppression(mag, winSW)\n",
    "\n",
    "    mag[ang_quant == 0] = magE[ang_quant == 0]\n",
    "    mag[ang_quant == 1] = magSE[ang_quant == 1]\n",
    "    mag[ang_quant == 2] = magS[ang_quant == 2]\n",
    "    mag[ang_quant == 3] = magSW[ang_quant == 3]\n",
    "    return mag\n",
    "\n",
    "def non_max_suppression(data, win):\n",
    "    data_max = scipy.ndimage.filters.maximum_filter(data, footprint=win, mode='constant')\n",
    "    data_max[data != data_max] = 0\n",
    "    return data_max\n",
    "\n",
    "# start calulcation\n",
    "gray_image = cv2.imread('crack1.jpg', 0)\n",
    "\n",
    "with_nmsup = True # \"True\" to apply non-maximal suppression\n",
    "fudgefactor = 1.3 #THis thresold can be altered to our wish - varied by kishore[Athena]\n",
    "sigma = 21 #for Gaussian Kernel\n",
    "kernel = 2*math.ceil(2*sigma)+1 #Assign the kernal size to the value - Athena\n",
    "\n",
    "gray_image = gray_image/255.0\n",
    "blur = cv2.GaussianBlur(gray_image, (kernel, kernel), sigma)\n",
    "gray_image = cv2.subtract(gray_image, blur)\n",
    "\n",
    "# compute sobel response\n",
    "sobelx = cv2.Sobel(gray_image, cv2.CV_64F, 1, 0, ksize=3)\n",
    "sobely = cv2.Sobel(gray_image, cv2.CV_64F, 0, 1, ksize=3)\n",
    "mag = np.hypot(sobelx, sobely)\n",
    "ang = np.arctan2(sobely, sobelx)\n",
    "\n",
    "# threshold\n",
    "threshold = 4 * fudgefactor * np.mean(mag)\n",
    "mag[mag < threshold] = 0\n",
    "\n",
    "# non-maximal suppression\n",
    "mag = orientated_non_max_suppression(mag, ang)\n",
    "# create mask\n",
    "mag[mag > 1] = 255\n",
    "mag = mag.astype(np.uint8)\n",
    "\n",
    "kernel = np.ones((5,5),np.uint8)\n",
    "result = cv2.morphologyEx(mag, cv2.MORPH_CLOSE, kernel)\n",
    "kernel = np.ones((1,1),np.uint8)\n",
    "img_erode = cv2.erode(result, kernel, iterations=1)\n",
    "\n",
    "cv2.imshow('im', img_erode)\n",
    "cv2.waitKey()"
   ]
  },
  {
   "cell_type": "code",
   "execution_count": null,
   "metadata": {},
   "outputs": [],
   "source": []
  }
 ],
 "metadata": {
  "kernelspec": {
   "display_name": "Python 3",
   "language": "python",
   "name": "python3"
  },
  "language_info": {
   "codemirror_mode": {
    "name": "ipython",
    "version": 3
   },
   "file_extension": ".py",
   "mimetype": "text/x-python",
   "name": "python",
   "nbconvert_exporter": "python",
   "pygments_lexer": "ipython3",
   "version": "3.7.1"
  }
 },
 "nbformat": 4,
 "nbformat_minor": 2
}
